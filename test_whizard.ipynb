{
 "cells": [
  {
   "cell_type": "code",
   "execution_count": 1,
   "metadata": {},
   "outputs": [],
   "source": [
    "import ROOT\n",
    "import subprocess"
   ]
  },
  {
   "cell_type": "code",
   "execution_count": 2,
   "metadata": {},
   "outputs": [
    {
     "name": "stdout",
     "output_type": "stream",
     "text": [
      "/cvmfs/sw-nightlies.hsf.org/key4hep/releases/2025-05-20/x86_64-almalinux9-gcc14.2.0-opt/whizard/3.1.4-bkajy7/lib/\n"
     ]
    }
   ],
   "source": [
    "\n",
    "whizard_prefix = subprocess.run(['whizard-config', '--prefix'], capture_output=True, encoding='ascii').stdout.strip()\n",
    "whizard_libs = f\"{whizard_prefix}/lib/\"\n",
    "print(whizard_libs)"
   ]
  },
  {
   "cell_type": "code",
   "execution_count": 3,
   "metadata": {},
   "outputs": [
    {
     "data": {
      "text/plain": [
       "0"
      ]
     },
     "execution_count": 3,
     "metadata": {},
     "output_type": "execute_result"
    }
   ],
   "source": [
    "# ROOT.gInterpreter.Declare(f\"R__ADD_LIBRARY_PATH({whizard_libs})\")\n",
    "# ROOT.gInterpreter.Declare(\"R__LOAD_LIBRARY(libomega_core.so.0)\")\n",
    "ROOT.gSystem.AddDynamicPath(whizard_libs)\n",
    "ROOT.gSystem.Load(\"libomega_core.so\")\n",
    "ROOT.gSystem.Load(\"libwhizard.so\")\n",
    "ROOT.gSystem.Load(\"libwhizard_main.so\")\n",
    "ROOT.gSystem.Load(\"libomega.so\")\n",
    "ROOT.gSystem.Load(\"whizard/cc20_ac/.libs/default_lib.so\")"
   ]
  },
  {
   "cell_type": "code",
   "execution_count": 4,
   "metadata": {},
   "outputs": [
    {
     "data": {
      "text/plain": [
       "True"
      ]
     },
     "execution_count": 4,
     "metadata": {},
     "output_type": "execute_result"
    }
   ],
   "source": [
    "ROOT.gInterpreter.Declare(\"#include \\\"test_whizard.h\\\"\")"
   ]
  },
  {
   "cell_type": "code",
   "execution_count": 5,
   "metadata": {},
   "outputs": [
    {
     "name": "stdout",
     "output_type": "stream",
     "text": [
      "[1.16639e-05, 91.1882, 80.419, 125.0, 0.1178, 0.000511, 0.1057, 1.777, 0.12, 1.25, 4.2, 174.0, 1.523, 2.443, 2.049, 0.004143, 0.0, 0.0, 0.0, 0.0, 0.0, 0.0, 0.0, 1.0, 1.0, 0.0, 0.0, 0.0, 0.0, 1.0, 1.0, 0.0, 0.0, 0.0, 0.0, 0.0, 0.0, 1.0, 1.0, 1.0, 1.0, 5000.0, 0.0, 0.0, 0.0, 0.0, 246.21845810181634, 0.8819013863635865, 0.4714339240338821, 0.30795615429614365, 0.0, 0.0, 0.0, 132.50494581248503]\n"
     ]
    }
   ],
   "source": [
    "from model_parser import ModelParser\n",
    "model_parser = ModelParser(\"SM_ac.mdl\")\n",
    "pars = model_parser.get_parameters_list()\n",
    "print(pars)\n",
    "ROOT.init_parameters(pars)"
   ]
  },
  {
   "cell_type": "code",
   "execution_count": 6,
   "metadata": {},
   "outputs": [],
   "source": [
    "%%cpp\n",
    "\n",
    "std::array<double, 6*4> p1 = {\n",
    " 1.2500000E+02, 0.0000000E+00, 0.0000000E+00, 1.2500000E+02,\n",
    " 1.2500000E+02, 0.0000000E+00, 0.0000000E+00,-1.2500000E+02,\n",
    " 1.0091697E+02, 1.9631897E+01,-4.3110336E+01, 8.9108485E+01,\n",
    " 2.4400926E+01,-2.2812469E+01,-5.5731052E+00,-6.6284939E+00,\n",
    " 4.9363948E+01, 2.4150784E+01,-1.1012284E+01,-4.1620531E+01,\n",
    " 7.5318157E+01,-2.0970211E+01, 5.9695725E+01,-4.0859460E+01\n",
    "};\n",
    "OMEGA_FUN(new_event)(p1.data());\n"
   ]
  },
  {
   "cell_type": "code",
   "execution_count": 7,
   "metadata": {},
   "outputs": [
    {
     "name": "stdout",
     "output_type": "stream",
     "text": [
      "0.00436847029806741\n",
      "0.9999980375273085\n",
      "1.004366507825376\n"
     ]
    }
   ],
   "source": [
    "sqme1 = ROOT.sqme(1)\n",
    "sqme2 = ROOT.sqme(2)\n",
    "print(sqme1/4.007412298738E-03)\n",
    "print(sqme2/4.007412298738E-03)\n",
    "print((sqme1+sqme2)/4.007412298738E-03)"
   ]
  },
  {
   "cell_type": "code",
   "execution_count": 8,
   "metadata": {},
   "outputs": [],
   "source": [
    "df = ROOT.RDataFrame(\"events\", \"whizard/cc20_ac/ww.100k.edm4hep.root\")"
   ]
  },
  {
   "cell_type": "code",
   "execution_count": 9,
   "metadata": {},
   "outputs": [],
   "source": [
    "df = df.Define(\"mc_lvec\", \"Construct<ROOT::Math::PxPyPzMVector>(MCParticle.momentum.x, MCParticle.momentum.y, MCParticle.momentum.z, MCParticle.mass)\")"
   ]
  },
  {
   "cell_type": "code",
   "execution_count": 10,
   "metadata": {},
   "outputs": [],
   "source": [
    "# for debugging:\n",
    "df = df.Define(\"W_lvec\", \"mc_lvec[2] + mc_lvec[3]\")\n",
    "df = df.Define(\"cosTheta\", \"cos(W_lvec.theta())\")"
   ]
  },
  {
   "cell_type": "code",
   "execution_count": 11,
   "metadata": {},
   "outputs": [],
   "source": [
    "df = df.Define(\"E\", \"return Map(mc_lvec, [] (const auto& el) {return el.energy();})\")"
   ]
  },
  {
   "cell_type": "code",
   "execution_count": 12,
   "metadata": {},
   "outputs": [],
   "source": [
    "\n",
    "df = df.Define(\"PX\", \"MCParticle.momentum.x\")\n",
    "df = df.Define(\"PY\", \"MCParticle.momentum.y\")\n",
    "df = df.Define(\"PZ\", \"MCParticle.momentum.z\")\n"
   ]
  },
  {
   "cell_type": "code",
   "execution_count": 13,
   "metadata": {},
   "outputs": [],
   "source": [
    "\n",
    "df = df.Define(\"momenta\", \"\"\"\n",
    "               std::array<double, 6*4>({\n",
    "               E[0], PX[0], PY[0], PZ[0],\n",
    "               E[1], PX[1], PY[1], PZ[1],\n",
    "               E[2], PX[2], PY[2], PZ[2],\n",
    "               E[3], PX[3], PY[3], PZ[3],\n",
    "               E[4], PX[4], PY[4], PZ[4],\n",
    "               E[5], PX[5], PY[5], PZ[5],\n",
    "               })\n",
    "               \"\"\")\n",
    "# FIXME: does the calculation twice :(\n",
    "df = df.Define(\"sqme1\", \"sqme(momenta.data(), 1)\")\n",
    "df = df.Define(\"sqme2\", \"sqme(momenta.data(), 2)\")"
   ]
  },
  {
   "cell_type": "code",
   "execution_count": null,
   "metadata": {},
   "outputs": [],
   "source": [
    "ROOT.gInterpreter.Declare(\"#include <podio/GenericParameters.h>\")\n",
    "df = df.Define(\"Parameters\", \"podio::GenericParameters par; par.loadFrom(GPDoubleKeys, GPDoubleValues); par.loadFrom(GPFloatKeys, GPFloatValues); par.loadFrom(GPIntKeys, GPIntValues); par.loadFrom(GPStringKeys, GPStringValues); return par;\")\n",
    "df = df.Define(\"sqme_whizard\", \"Parameters.get<double>(\\\"sqme\\\").value_or(-42.0)\")\n",
    "df = df.Define(\"sqme_alt1_whizard\", \"Parameters.get<double>(\\\"sqme_alt1\\\").value_or(-42.0)\")\n",
    "df = df.Define(\"e_charge\", \"MCParticle.charge[2]\")"
   ]
  },
  {
   "cell_type": "code",
   "execution_count": 15,
   "metadata": {},
   "outputs": [],
   "source": [
    "df = df.Define(\"recalc_weight\", \"(e_charge > 0 ? sqme1 : sqme2) / sqme_whizard\")\n",
    "df = df.Define(\"recalc_weight2\", \"(sqme1 + sqme2) / sqme_whizard\")"
   ]
  },
  {
   "cell_type": "code",
   "execution_count": 16,
   "metadata": {},
   "outputs": [],
   "source": [
    "# for debugging:\n",
    "df = df.Define(\"inv_sqme_whizard\", \"1.0 / sqme_whizard\")\n",
    "df = df.Define(\"inv_sqme1\", \"1.0 / sqme1\")\n",
    "df = df.Define(\"inv_sqme2\", \"1.0 / sqme2\")\n",
    "df = df.Define(\"inv_sqme_correct\", \"1.0 / (e_charge > 0 ? sqme1 : sqme2)\")\n",
    "n_bins = 5\n",
    "h_cw_w = df.Histo1D((\"\", \"; cos #theta\", 5, -1., 1.), \"cosTheta\", \"inv_sqme_whizard\")\n",
    "h_cw_1 = df.Histo1D((\"\", \"; cos #theta\", 5, -1., 1.), \"cosTheta\", \"inv_sqme1\")\n",
    "h_cw_2 = df.Histo1D((\"\", \"; cos #theta\", 5, -1., 1.), \"cosTheta\", \"inv_sqme2\")\n",
    "h_cw_c = df.Histo1D((\"\", \"; cos #theta\", 5, -1., 1.), \"cosTheta\", \"inv_sqme_correct\")"
   ]
  },
  {
   "cell_type": "code",
   "execution_count": 17,
   "metadata": {},
   "outputs": [],
   "source": [
    "h = df.Histo1D(\"recalc_weight2\")"
   ]
  },
  {
   "cell_type": "code",
   "execution_count": 18,
   "metadata": {},
   "outputs": [
    {
     "data": {
      "image/png": "[encoded data removed]",
      "text/plain": [
       "<IPython.core.display.Image object>"
      ]
     },
     "metadata": {},
     "output_type": "display_data"
    }
   ],
   "source": [
    "c = ROOT.TCanvas()\n",
    "h.Draw()\n",
    "c.Draw()"
   ]
  },
  {
   "cell_type": "code",
   "execution_count": 19,
   "metadata": {},
   "outputs": [
    {
     "name": "stdout",
     "output_type": "stream",
     "text": [
      "+-----+--------------+----------+----------+---------------+-----------+\n",
      "| Row | sqme_whizard | sqme1    | sqme2    | recalc_weight | e_charge  | \n",
      "+-----+--------------+----------+----------+---------------+-----------+\n",
      "| 0   | 0.001320     | 0.000094 | 0.001226 | 0.928487      | -1.000000 | \n",
      "+-----+--------------+----------+----------+---------------+-----------+\n",
      "| 6   | 0.000300     | 0.000026 | 0.000273 | 0.912351      | -1.000000 | \n",
      "+-----+--------------+----------+----------+---------------+-----------+\n",
      "| 7   | 0.000126     | 0.000123 | 0.000003 | 0.979532      | 1.000000  | \n",
      "+-----+--------------+----------+----------+---------------+-----------+\n",
      "| 8   | 0.000442     | 0.000005 | 0.000437 | 0.988424      | -1.000000 | \n",
      "+-----+--------------+----------+----------+---------------+-----------+\n",
      "| 12  | 0.000006     | 0.000000 | 0.000005 | 0.051301      | 1.000000  | \n",
      "+-----+--------------+----------+----------+---------------+-----------+\n"
     ]
    }
   ],
   "source": [
    "df.Filter(\"recalc_weight < 0.99\").Display([\"sqme_whizard\", \"sqme1\", \"sqme2\", \"recalc_weight\", \"e_charge\"]).Print()"
   ]
  },
  {
   "cell_type": "code",
   "execution_count": 20,
   "metadata": {},
   "outputs": [
    {
     "data": {
      "image/png": "[encoded data removed]",
      "text/plain": [
       "<IPython.core.display.Image object>"
      ]
     },
     "metadata": {},
     "output_type": "display_data"
    },
    {
     "data": {
      "image/png": "[encoded data removed]",
      "text/plain": [
       "<IPython.core.display.Image object>"
      ]
     },
     "metadata": {},
     "output_type": "display_data"
    },
    {
     "data": {
      "image/png": "[encoded data removed]",
      "text/plain": [
       "<IPython.core.display.Image object>"
      ]
     },
     "metadata": {},
     "output_type": "display_data"
    },
    {
     "data": {
      "image/png": "[encoded data removed]",
      "text/plain": [
       "<IPython.core.display.Image object>"
      ]
     },
     "metadata": {},
     "output_type": "display_data"
    }
   ],
   "source": [
    "c_cw_w = ROOT.TCanvas()\n",
    "h_cw_w.Draw()\n",
    "h_cw_w.SetMinimum(0)\n",
    "c_cw_w.Draw()\n",
    "\n",
    "c_cw_1 = ROOT.TCanvas()\n",
    "h_cw_1.Draw()\n",
    "h_cw_1.SetMinimum(0)\n",
    "c_cw_1.Draw()\n",
    "\n",
    "c_cw_2 = ROOT.TCanvas()\n",
    "h_cw_2.Draw()\n",
    "h_cw_2.SetMinimum(0)\n",
    "c_cw_2.Draw()\n",
    "\n",
    "c_cw_c = ROOT.TCanvas()\n",
    "h_cw_c.Draw()\n",
    "h_cw_c.SetMinimum(0)\n",
    "c_cw_c.Draw()"
   ]
  }
 ],
 "metadata": {
  "kernelspec": {
   "display_name": "Python 3",
   "language": "python",
   "name": "python3"
  },
  "language_info": {
   "codemirror_mode": {
    "name": "ipython",
    "version": 3
   },
   "file_extension": ".py",
   "mimetype": "text/x-python",
   "name": "python",
   "nbconvert_exporter": "python",
   "pygments_lexer": "ipython3",
   "version": "3.11.9"
  }
 },
 "nbformat": 4,
 "nbformat_minor": 2
}
