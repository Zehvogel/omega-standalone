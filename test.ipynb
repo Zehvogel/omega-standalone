{
 "cells": [
  {
   "cell_type": "code",
   "execution_count": 1,
   "metadata": {},
   "outputs": [],
   "source": [
    "import ROOT\n",
    "import subprocess"
   ]
  },
  {
   "cell_type": "code",
   "execution_count": 2,
   "metadata": {},
   "outputs": [
    {
     "name": "stdout",
     "output_type": "stream",
     "text": [
      "/cvmfs/sw-nightlies.hsf.org/key4hep/releases/2025-05-12/x86_64-almalinux9-gcc14.2.0-opt/whizard/3.1.4-hpsovb\n",
      "/cvmfs/sw-nightlies.hsf.org/key4hep/releases/2025-05-12/x86_64-almalinux9-gcc14.2.0-opt/whizard/3.1.4-hpsovb/lib/\n"
     ]
    }
   ],
   "source": [
    "whizard_prefix = subprocess.run(['whizard-config', '--prefix'], capture_output=True, encoding='ascii').stdout.strip()\n",
    "print(whizard_prefix)\n",
    "whizard_libs = f\"{whizard_prefix}/lib/\"\n",
    "print(whizard_libs)"
   ]
  },
  {
   "cell_type": "code",
   "execution_count": 3,
   "metadata": {},
   "outputs": [
    {
     "data": {
      "text/plain": [
       "0"
      ]
     },
     "execution_count": 3,
     "metadata": {},
     "output_type": "execute_result"
    }
   ],
   "source": [
    "# ROOT.gInterpreter.Declare(f\"R__ADD_LIBRARY_PATH({whizard_libs})\")\n",
    "# ROOT.gInterpreter.Declare(\"R__LOAD_LIBRARY(libomega_core.so.0)\")\n",
    "ROOT.gSystem.AddDynamicPath(whizard_libs)\n",
    "ROOT.gSystem.Load(\"libomega_core.so\")\n",
    "ROOT.gSystem.Load(\"libAmplitude.so\")"
   ]
  },
  {
   "cell_type": "code",
   "execution_count": 4,
   "metadata": {},
   "outputs": [
    {
     "data": {
      "text/plain": [
       "True"
      ]
     },
     "execution_count": 4,
     "metadata": {},
     "output_type": "execute_result"
    }
   ],
   "source": [
    "ROOT.gInterpreter.Declare(\"#include \\\"test.h\\\"\")"
   ]
  },
  {
   "cell_type": "code",
   "execution_count": 5,
   "metadata": {},
   "outputs": [],
   "source": [
    "%%cpp\n",
    "\n",
    "__parameters_sm_MOD_init_parameters();\n",
    "std::array<double, 6*4> p1 = {\n",
    " 1.2500000E+02, 0.0000000E+00, 0.0000000E+00, 1.2500000E+02,\n",
    " 1.2500000E+02, 0.0000000E+00, 0.0000000E+00,-1.2500000E+02,\n",
    " 1.0091697E+02, 1.9631897E+01,-4.3110336E+01, 8.9108485E+01,\n",
    " 2.4400926E+01,-2.2812469E+01,-5.5731052E+00,-6.6284939E+00,\n",
    " 4.9363948E+01, 2.4150784E+01,-1.1012284E+01,-4.1620531E+01,\n",
    " 7.5318157E+01,-2.0970211E+01, 5.9695725E+01,-4.0859460E+01\n",
    "};\n",
    "__omega_amplitude_MOD_new_event(p1.data());\n"
   ]
  },
  {
   "cell_type": "code",
   "execution_count": 6,
   "metadata": {},
   "outputs": [
    {
     "name": "stdout",
     "output_type": "stream",
     "text": [
      "0.9999980375273083\n"
     ]
    }
   ],
   "source": [
    "sqme = ROOT.sqme(1)\n",
    "print(sqme/4.007412298738E-03)"
   ]
  },
  {
   "cell_type": "code",
   "execution_count": 7,
   "metadata": {},
   "outputs": [],
   "source": [
    "%%cpp\n",
    "std::array<double, 6*4> p2 = {\n",
    " 1.2500000E+02, 0.0000000E+00, 0.0000000E+00, 1.2500000E+02,\n",
    " 1.2500000E+02, 0.0000000E+00, 0.0000000E+00,-1.2500000E+02,\n",
    " 6.5664993E+01,-6.2671444E+01,-1.5865591E+01, 1.1509320E+01,\n",
    " 6.0135773E+01,-2.0621744E+00, 1.9523745E+01, 5.6840849E+01,\n",
    " 3.2821498E+01,-5.2021740E-01,-3.1073495E+01,-1.0555475E+01,\n",
    " 9.1377735E+01, 6.5253836E+01, 2.7415341E+01,-5.7794693E+01\n",
    "};\n",
    "__omega_amplitude_MOD_new_event(p2.data());"
   ]
  },
  {
   "cell_type": "code",
   "execution_count": 8,
   "metadata": {},
   "outputs": [
    {
     "name": "stdout",
     "output_type": "stream",
     "text": [
      "1.0000016900110886\n"
     ]
    }
   ],
   "source": [
    "sqme = ROOT.sqme(1)\n",
    "print((sqme)/8.519196150135E-05)"
   ]
  },
  {
   "cell_type": "code",
   "execution_count": 9,
   "metadata": {},
   "outputs": [],
   "source": [
    "%%cpp\n",
    "std::array<double, 6*4> p2 = {\n",
    " 1.2500000E+02, 0.0000000E+00, 0.0000000E+00, 1.2500000E+02,\n",
    " 1.2500000E+02, 0.0000000E+00, 0.0000000E+00,-1.2500000E+02,\n",
    " 3.6770467E+01,-3.1516933E+01,-3.6723794E+00,-1.8581276E+01,\n",
    " 8.8711862E+01, 1.0309521E+01, 8.1761170E+01,-3.2842340E+01,\n",
    " 3.6017628E+01,-2.5619686E+01,-2.5242267E+01,-1.9310982E+00,\n",
    " 8.8500043E+01, 4.6827098E+01,-5.2846524E+01, 5.3354714E+01\n",
    "};\n",
    "__omega_amplitude_MOD_new_event(p2.data());"
   ]
  },
  {
   "cell_type": "code",
   "execution_count": 10,
   "metadata": {},
   "outputs": [
    {
     "name": "stdout",
     "output_type": "stream",
     "text": [
      "0.999999567350519\n"
     ]
    }
   ],
   "source": [
    "sqme = ROOT.sqme(1)\n",
    "print(sqme/2.779497662627E-05)"
   ]
  },
  {
   "cell_type": "code",
   "execution_count": null,
   "metadata": {},
   "outputs": [],
   "source": []
  }
 ],
 "metadata": {
  "kernelspec": {
   "display_name": "Python 3",
   "language": "python",
   "name": "python3"
  },
  "language_info": {
   "codemirror_mode": {
    "name": "ipython",
    "version": 3
   },
   "file_extension": ".py",
   "mimetype": "text/x-python",
   "name": "python",
   "nbconvert_exporter": "python",
   "pygments_lexer": "ipython3",
   "version": "3.11.9"
  }
 },
 "nbformat": 4,
 "nbformat_minor": 2
}
