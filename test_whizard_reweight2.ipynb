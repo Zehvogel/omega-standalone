{
 "cells": [
  {
   "cell_type": "code",
   "execution_count": 1,
   "metadata": {},
   "outputs": [],
   "source": [
    "import ROOT\n",
    "import subprocess"
   ]
  },
  {
   "cell_type": "code",
   "execution_count": 2,
   "metadata": {},
   "outputs": [
    {
     "name": "stdout",
     "output_type": "stream",
     "text": [
      "/cvmfs/sw.hsf.org/key4hep/releases/2025-05-29/x86_64-almalinux9-gcc14.2.0-opt/whizard/3.1.4-zjmc7r/lib/\n"
     ]
    }
   ],
   "source": [
    "\n",
    "whizard_prefix = subprocess.run(['whizard-config', '--prefix'], capture_output=True, encoding='ascii').stdout.strip()\n",
    "whizard_libs = f\"{whizard_prefix}/lib/\"\n",
    "print(whizard_libs)"
   ]
  },
  {
   "cell_type": "code",
   "execution_count": 3,
   "metadata": {},
   "outputs": [
    {
     "data": {
      "text/plain": [
       "0"
      ]
     },
     "execution_count": 3,
     "metadata": {},
     "output_type": "execute_result"
    }
   ],
   "source": [
    "ROOT.gSystem.AddDynamicPath(whizard_libs)\n",
    "ROOT.gSystem.Load(\"libomega_core.so\")\n",
    "ROOT.gSystem.Load(\"libwhizard.so\")\n",
    "ROOT.gSystem.Load(\"libwhizard_main.so\")\n",
    "ROOT.gSystem.Load(\"libomega.so\")\n",
    "ROOT.gSystem.Load(\"whizard/cc20_ac_inclusive/.libs/default_lib.so\")"
   ]
  },
  {
   "cell_type": "code",
   "execution_count": 4,
   "metadata": {},
   "outputs": [
    {
     "data": {
      "text/plain": [
       "True"
      ]
     },
     "execution_count": 4,
     "metadata": {},
     "output_type": "execute_result"
    }
   ],
   "source": [
    "ROOT.gInterpreter.Declare(\"#include \\\"test_whizard_object.h\\\"\")"
   ]
  },
  {
   "cell_type": "code",
   "execution_count": 5,
   "metadata": {},
   "outputs": [
    {
     "name": "stdout",
     "output_type": "stream",
     "text": [
      "{'nominal': [1.16639e-05, 91.1882, 80.419, 125.0, 0.1178, 0.000511, 0.1057, 1.777, 0.12, 1.25, 4.2, 174.0, 1.523, 2.443, 2.049, 0.004143, 0.0, 0.0, 0.0, 0.0, 0.0, 0.0, 0.0, 1.0, 1.0, 0.0, 0.0, 0.0, 0.0, 1.0, 1.0, 0.0, 0.0, 0.0, 0.0, 0.0, 0.0, 1.0, 1.0, 1.0, 1.0, 5000.0, 0.0, 0.0, 0.0, 0.0, 246.21845810181634, 0.8819013863635865, 0.4714339240338821, 0.30795615429614365, 0.0, 0.0, 0.0, 132.50494581248503], 'g1z_up_1e-3': [1.16639e-05, 91.1882, 80.419, 125.0, 0.1178, 0.000511, 0.1057, 1.777, 0.12, 1.25, 4.2, 174.0, 1.523, 2.443, 2.049, 0.004143, 0.0, 0.0, 0.0, 0.0, 0.0, 0.0, 0.0, 1.0, 1.001, 0.0, 0.0, 0.0, 0.0, 1.0, 1.001, 0.0, 0.0, 0.0, 0.0, 0.0, 0.0, 1.0, 1.0, 1.0, 1.0, 5000.0, 0.0, 0.0, 0.0, 0.0, 246.21845810181634, 0.8819013863635865, 0.4714339240338821, 0.30795615429614365, 0.0, 0.0, 0.0, 132.50494581248503], 'ka_up_1e-3': [1.16639e-05, 91.1882, 80.419, 125.0, 0.1178, 0.000511, 0.1057, 1.777, 0.12, 1.25, 4.2, 174.0, 1.523, 2.443, 2.049, 0.004143, 0.0, 0.0, 0.0, 0.0, 0.0, 0.0, 0.0, 1.0, 1.0, 0.0, 0.0, 0.0, 0.0, 1.001, 0.9997142398856497, 0.0, 0.0, 0.0, 0.0, 0.0, 0.0, 1.0, 1.0, 1.0, 1.0, 5000.0, 0.0, 0.0, 0.0, 0.0, 246.21845810181634, 0.8819013863635865, 0.4714339240338821, 0.30795615429614365, 0.0, 0.0, 0.0, 132.50494581248503], 'la_up_1e-3': [1.16639e-05, 91.1882, 80.419, 125.0, 0.1178, 0.000511, 0.1057, 1.777, 0.12, 1.25, 4.2, 174.0, 1.523, 2.443, 2.049, 0.004143, 0.0, 0.0, 0.0, 0.0, 0.0, 0.0, 0.0, 1.0, 1.0, 0.0, 0.0, 0.0, 0.0, 1.0, 1.0, 0.001, 0.001, 0.0, 0.0, 0.0, 0.0, 1.0, 1.0, 1.0, 1.0, 5000.0, 0.0, 0.0, 0.0, 0.0, 246.21845810181634, 0.8819013863635865, 0.4714339240338821, 0.30795615429614365, 0.0, 0.0, 0.0, 132.50494581248503]}\n"
     ]
    }
   ],
   "source": [
    "from model_parser import ModelParser\n",
    "model_parser = ModelParser(\"SM_ac.mdl\")\n",
    "\n",
    "# add derivation of lz and kz according to lep parametrisation\n",
    "model_parser.add_derived_parameter(\"lz\", \"la\")\n",
    "model_parser.add_derived_parameter(\"kz\", \"1.0 - (ka - 1.0) * sw**2/cw**2 + (g1z - 1.0)\")\n",
    "\n",
    "pars = {}\n",
    "pars[\"nominal\"] = model_parser.get_parameters_list()\n",
    "alt_configs = {\n",
    "    \"g1z_up_1e-3\": {\n",
    "        \"g1z\": 1.001,\n",
    "        \"ka\": 1.000,\n",
    "        \"la\": 0.000,\n",
    "    },\n",
    "    \"ka_up_1e-3\": {\n",
    "        \"g1z\": 1.000,\n",
    "        \"ka\": 1.001,\n",
    "        \"la\": 0.000,\n",
    "    },\n",
    "    \"la_up_1e-3\": {\n",
    "        \"g1z\": 1.000,\n",
    "        \"ka\": 1.000,\n",
    "        \"la\": 0.001,\n",
    "    }\n",
    "}\n",
    "for name, config in alt_configs.items():\n",
    "    model_parser.set_parameters(config)\n",
    "    pars[name] = model_parser.get_parameters_list()\n",
    "\n",
    "print(pars)"
   ]
  },
  {
   "cell_type": "code",
   "execution_count": 6,
   "metadata": {},
   "outputs": [
    {
     "name": "stdout",
     "output_type": "stream",
     "text": [
      "{'nominal': <cppyy.gbl.OmegaWrapper object at 0xaa58c50>, 'g1z_up_1e-3': <cppyy.gbl.OmegaWrapper object at 0xaa0ce60>, 'ka_up_1e-3': <cppyy.gbl.OmegaWrapper object at 0xaa64420>, 'la_up_1e-3': <cppyy.gbl.OmegaWrapper object at 0xaa685f0>}\n"
     ]
    }
   ],
   "source": [
    "omega_wrappers = {name: ROOT.OmegaWrapper(par) for name, par in pars.items()}\n",
    "print(omega_wrappers)"
   ]
  },
  {
   "cell_type": "code",
   "execution_count": 7,
   "metadata": {},
   "outputs": [],
   "source": [
    "omega_nom = omega_wrappers[\"nominal\"]"
   ]
  },
  {
   "cell_type": "code",
   "execution_count": 8,
   "metadata": {},
   "outputs": [
    {
     "data": {
      "text/plain": [
       "<cppyy.CPPOverload at 0x7f6a5f782300>"
      ]
     },
     "execution_count": 8,
     "metadata": {},
     "output_type": "execute_result"
    }
   ],
   "source": [
    "omega_nom.sqme1"
   ]
  },
  {
   "cell_type": "code",
   "execution_count": 9,
   "metadata": {},
   "outputs": [],
   "source": [
    "df = ROOT.RDataFrame(\"events\", \"whizard/cc20_ac_exclusive/ww.1k.edm4hep.root\")"
   ]
  },
  {
   "cell_type": "code",
   "execution_count": 10,
   "metadata": {},
   "outputs": [],
   "source": [
    "\n",
    "df = df.Define(\"mc_lvec\", \"Construct<ROOT::Math::PxPyPzMVector>(MCParticle.momentum.x, MCParticle.momentum.y, MCParticle.momentum.z, MCParticle.mass)\")\n",
    "df = df.Define(\"E\", \"return Map(mc_lvec, [] (const auto& el) {return el.energy();})\")\n",
    "df = df.Define(\"PX\", \"MCParticle.momentum.x\")\n",
    "df = df.Define(\"PY\", \"MCParticle.momentum.y\")\n",
    "df = df.Define(\"PZ\", \"MCParticle.momentum.z\")"
   ]
  },
  {
   "cell_type": "code",
   "execution_count": null,
   "metadata": {},
   "outputs": [],
   "source": [
    "\n",
    "df = df.Define(\"momenta\", \"\"\"\n",
    "               std::vector<double>({\n",
    "               E[0], PX[0], PY[0], PZ[0],\n",
    "               E[1], PX[1], PY[1], PZ[1],\n",
    "               E[2], PX[2], PY[2], PZ[2],\n",
    "               E[3], PX[3], PY[3], PZ[3],\n",
    "               E[4], PX[4], PY[4], PZ[4],\n",
    "               E[5], PX[5], PY[5], PZ[5],\n",
    "               })\n",
    "               \"\"\")\n",
    "# XXX: does the calculation twice :(\n",
    "df = df.Define(\"sqme1\", ROOT.OmegaWrapperFunctor(1, omega_nom), [\"momenta\"])\n",
    "df = df.Define(\"sqme2\", ROOT.OmegaWrapperFunctor(2, omega_nom), [\"momenta\"])\n",
    "df = df.Define(\"sqme_sum\", \"sqme1 + sqme2\")"
   ]
  },
  {
   "cell_type": "code",
   "execution_count": 12,
   "metadata": {},
   "outputs": [],
   "source": [
    "ROOT.gInterpreter.Declare(\"#include <podio/GenericParameters.h>\")\n",
    "df = df.Define(\"Parameters\", \"podio::GenericParameters par; par.loadFrom(GPDoubleKeys, GPDoubleValues); par.loadFrom(GPFloatKeys, GPFloatValues); par.loadFrom(GPIntKeys, GPIntValues); par.loadFrom(GPStringKeys, GPStringValues); return par;\")\n",
    "df = df.Define(\"sqme_whizard\", \"Parameters.get<double>(\\\"sqme\\\").value_or(-42.0)\")\n",
    "df = df.Define(\"sqme_alt1_whizard\", \"Parameters.get<double>(\\\"sqme_alt1\\\").value_or(-42.0)\")\n",
    "df = df.Define(\"e_charge\", \"MCParticle.charge[2]\")"
   ]
  },
  {
   "cell_type": "code",
   "execution_count": 13,
   "metadata": {},
   "outputs": [],
   "source": [
    "df = df.Define(\"recalc_weight\", \"(e_charge > 0 ? sqme1 : sqme2) / sqme_whizard\")\n",
    "df = df.Define(\"recalc_weight2\", \"(sqme1 + sqme2) / sqme_whizard\")"
   ]
  },
  {
   "cell_type": "code",
   "execution_count": 14,
   "metadata": {},
   "outputs": [
    {
     "name": "stdout",
     "output_type": "stream",
     "text": [
      "+-----+--------------+----------+----------+---------------+\n",
      "| Row | sqme_whizard | sqme1    | sqme2    | recalc_weight | \n",
      "+-----+--------------+----------+----------+---------------+\n",
      "| 0   | 0.000208     | 0.000092 | 0.000208 | 1.000000      | \n",
      "+-----+--------------+----------+----------+---------------+\n",
      "| 1   | 0.004474     | 0.004474 | 0.000006 | 1.000000      | \n",
      "+-----+--------------+----------+----------+---------------+\n",
      "| 2   | 0.000000     | 0.000000 | 0.000000 | 1.000000      | \n",
      "+-----+--------------+----------+----------+---------------+\n",
      "| 3   | 0.000327     | 0.000129 | 0.000327 | 1.000000      | \n",
      "+-----+--------------+----------+----------+---------------+\n",
      "| 4   | 0.000017     | 0.000000 | 0.000017 | 1.000000      | \n",
      "+-----+--------------+----------+----------+---------------+\n",
      "+-----+--------------+----------+----------+----------+----------------+\n",
      "| Row | sqme_whizard | sqme1    | sqme2    | sqme_sum | recalc_weight2 | \n",
      "+-----+--------------+----------+----------+----------+----------------+\n",
      "| 0   | 0.000208     | 0.000092 | 0.000208 | 0.000300 | 1.444607       | \n",
      "+-----+--------------+----------+----------+----------+----------------+\n",
      "| 1   | 0.004474     | 0.004474 | 0.000006 | 0.004480 | 1.001243       | \n",
      "+-----+--------------+----------+----------+----------+----------------+\n",
      "| 2   | 0.000000     | 0.000000 | 0.000000 | 0.000000 | 1.004529       | \n",
      "+-----+--------------+----------+----------+----------+----------------+\n",
      "| 3   | 0.000327     | 0.000129 | 0.000327 | 0.000456 | 1.395236       | \n",
      "+-----+--------------+----------+----------+----------+----------------+\n",
      "| 4   | 0.000017     | 0.000000 | 0.000017 | 0.000017 | 1.001321       | \n",
      "+-----+--------------+----------+----------+----------+----------------+\n"
     ]
    }
   ],
   "source": [
    "# df.Filter(\"recalc_weight < 0.99\").Display([\"sqme_whizard\", \"sqme1\", \"sqme2\", \"recalc_weight\", \"e_charge\"]).Print()\n",
    "df.Display([\"sqme_whizard\", \"sqme1\", \"sqme2\", \"recalc_weight\"]).Print()\n",
    "df.Display([\"sqme_whizard\", \"sqme1\", \"sqme2\", \"sqme_sum\", \"recalc_weight2\"]).Print()"
   ]
  }
 ],
 "metadata": {
  "kernelspec": {
   "display_name": "Python 3",
   "language": "python",
   "name": "python3"
  },
  "language_info": {
   "codemirror_mode": {
    "name": "ipython",
    "version": 3
   },
   "file_extension": ".py",
   "mimetype": "text/x-python",
   "name": "python",
   "nbconvert_exporter": "python",
   "pygments_lexer": "ipython3",
   "version": "3.11.9"
  }
 },
 "nbformat": 4,
 "nbformat_minor": 2
}
