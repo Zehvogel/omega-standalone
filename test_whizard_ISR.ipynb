{
 "cells": [
  {
   "cell_type": "code",
   "execution_count": 1,
   "metadata": {},
   "outputs": [],
   "source": [
    "import ROOT\n",
    "import subprocess\n",
    "import edm4hep\n",
    "from podio import root_io"
   ]
  },
  {
   "cell_type": "code",
   "execution_count": 2,
   "metadata": {},
   "outputs": [
    {
     "name": "stdout",
     "output_type": "stream",
     "text": [
      "/cvmfs/sw-nightlies.hsf.org/key4hep/releases/2025-05-29/x86_64-almalinux9-gcc14.2.0-opt/whizard/3.1.4-bkajy7/lib/\n"
     ]
    }
   ],
   "source": [
    "\n",
    "whizard_prefix = subprocess.run(['whizard-config', '--prefix'], capture_output=True, encoding='ascii').stdout.strip()\n",
    "whizard_libs = f\"{whizard_prefix}/lib/\"\n",
    "print(whizard_libs)"
   ]
  },
  {
   "cell_type": "code",
   "execution_count": 3,
   "metadata": {},
   "outputs": [
    {
     "data": {
      "text/plain": [
       "0"
      ]
     },
     "execution_count": 3,
     "metadata": {},
     "output_type": "execute_result"
    }
   ],
   "source": [
    "# ROOT.gInterpreter.Declare(f\"R__ADD_LIBRARY_PATH({whizard_libs})\")\n",
    "# ROOT.gInterpreter.Declare(\"R__LOAD_LIBRARY(libomega_core.so.0)\")\n",
    "ROOT.gSystem.AddDynamicPath(whizard_libs)\n",
    "ROOT.gSystem.Load(\"libomega_core.so\")\n",
    "ROOT.gSystem.Load(\"libwhizard.so\")\n",
    "ROOT.gSystem.Load(\"libwhizard_main.so\")\n",
    "ROOT.gSystem.Load(\"libomega.so\")\n",
    "ROOT.gSystem.Load(\"whizard/cc20_ac_inclusive/.libs/default_lib.so\")"
   ]
  },
  {
   "cell_type": "code",
   "execution_count": 4,
   "metadata": {},
   "outputs": [
    {
     "data": {
      "text/plain": [
       "True"
      ]
     },
     "execution_count": 4,
     "metadata": {},
     "output_type": "execute_result"
    }
   ],
   "source": [
    "ROOT.gInterpreter.Declare(\"#include \\\"test_whizard.h\\\"\")"
   ]
  },
  {
   "cell_type": "code",
   "execution_count": 5,
   "metadata": {},
   "outputs": [
    {
     "name": "stdout",
     "output_type": "stream",
     "text": [
      "[1.16639e-05, 91.1882, 80.419, 125.0, 0.1178, 0.000511, 0.1057, 1.777, 0.12, 1.25, 4.2, 174.0, 1.523, 2.443, 2.049, 0.004143, 0.0, 0.0, 0.0, 0.0, 0.0, 0.0, 0.0, 1.0, 1.0, 0.0, 0.0, 0.0, 0.0, 1.0, 1.0, 0.0, 0.0, 0.0, 0.0, 0.0, 0.0, 1.0, 1.0, 1.0, 1.0, 5000.0, 0.0, 0.0, 0.0, 0.0, 246.21845810181634, 0.8819013863635865, 0.4714339240338821, 0.30795615429614365, 0.0, 0.0, 0.0, 132.50494581248503]\n",
      "[1.16639e-05, 91.1882, 80.419, 125.0, 0.1178, 0.000511, 0.1057, 1.777, 0.12, 1.25, 4.2, 174.0, 1.523, 2.443, 2.049, 0.004143, 0.0, 0.0, 0.0, 0.0, 0.0, 0.0, 0.0, 1.0, 1.001, 0.0, 0.0, 0.0, 0.0, 1.0, 1.001, 0.0, 0.0, 0.0, 0.0, 0.0, 0.0, 1.0, 1.0, 1.0, 1.0, 5000.0, 0.0, 0.0, 0.0, 0.0, 246.21845810181634, 0.8819013863635865, 0.4714339240338821, 0.30795615429614365, 0.0, 0.0, 0.0, 132.50494581248503]\n",
      "[1.16639e-05, 91.1882, 80.419, 125.0, 0.1178, 0.000511, 0.1057, 1.777, 0.12, 1.25, 4.2, 174.0, 1.523, 2.443, 2.049, 0.004143, 0.0, 0.0, 0.0, 0.0, 0.0, 0.0, 0.0, 1.0, 1.0, 0.0, 0.0, 0.0, 0.0, 1.001, 0.9997142398856497, 0.0, 0.0, 0.0, 0.0, 0.0, 0.0, 1.0, 1.0, 1.0, 1.0, 5000.0, 0.0, 0.0, 0.0, 0.0, 246.21845810181634, 0.8819013863635865, 0.4714339240338821, 0.30795615429614365, 0.0, 0.0, 0.0, 132.50494581248503]\n",
      "[1.16639e-05, 91.1882, 80.419, 125.0, 0.1178, 0.000511, 0.1057, 1.777, 0.12, 1.25, 4.2, 174.0, 1.523, 2.443, 2.049, 0.004143, 0.0, 0.0, 0.0, 0.0, 0.0, 0.0, 0.0, 1.0, 1.0, 0.0, 0.0, 0.0, 0.0, 1.0, 1.0, 0.001, 0.001, 0.0, 0.0, 0.0, 0.0, 1.0, 1.0, 1.0, 1.0, 5000.0, 0.0, 0.0, 0.0, 0.0, 246.21845810181634, 0.8819013863635865, 0.4714339240338821, 0.30795615429614365, 0.0, 0.0, 0.0, 132.50494581248503]\n"
     ]
    }
   ],
   "source": [
    "from model_parser import ModelParser\n",
    "model_parser = ModelParser(\"SM_ac.mdl\")\n",
    "\n",
    "# add derivation of lz and kz according to lep parametrisation\n",
    "model_parser.add_derived_parameter(\"lz\", \"la\")\n",
    "model_parser.add_derived_parameter(\"kz\", \"1.0 - (ka - 1.0) * sw**2/cw**2 + (g1z - 1.0)\")\n",
    "\n",
    "pars = model_parser.get_parameters_list()\n",
    "print(pars)\n",
    "ROOT.init_parameters(pars)\n",
    "\n",
    "model_parser.set_parameters({\n",
    "    \"g1z\": 1.001,\n",
    "    \"ka\": 1.000,\n",
    "    \"la\": 0.000,\n",
    "    })\n",
    "pars_alt1 = model_parser.get_parameters_list()\n",
    "print(pars_alt1)\n",
    "\n",
    "model_parser.set_parameters({\n",
    "    \"g1z\": 1.000,\n",
    "    \"ka\": 1.001,\n",
    "    \"la\": 0.000,\n",
    "    })\n",
    "pars_alt2 = model_parser.get_parameters_list()\n",
    "print(pars_alt2)\n",
    "\n",
    "model_parser.set_parameters({\n",
    "    \"g1z\": 1.000,\n",
    "    \"ka\": 1.000,\n",
    "    \"la\": 0.001,\n",
    "    })\n",
    "pars_alt3 = model_parser.get_parameters_list()\n",
    "print(pars_alt3)"
   ]
  },
  {
   "cell_type": "code",
   "execution_count": 6,
   "metadata": {},
   "outputs": [],
   "source": [
    "reader = root_io.Reader(\"whizard/cc20_ac_inclusive_ISR/ww.1k.edm4hep.root\")"
   ]
  },
  {
   "cell_type": "code",
   "execution_count": 7,
   "metadata": {},
   "outputs": [],
   "source": [
    "events = reader.get(\"events\")\n",
    "event = events[17]"
   ]
  },
  {
   "cell_type": "code",
   "execution_count": 8,
   "metadata": {},
   "outputs": [],
   "source": [
    "mcparticles = event.get(\"MCParticle\")"
   ]
  },
  {
   "cell_type": "code",
   "execution_count": 9,
   "metadata": {},
   "outputs": [
    {
     "name": "stdout",
     "output_type": "stream",
     "text": [
      "{'sqme': 5.619044054691151e-06, 'sqme_alt1': 5.620592500435446e-06, 'sqme_alt2': 5.6190498806572235e-06, 'sqme_alt3': 5.619517867226903e-06, 'weight_alt1': 1.0002755710276023, 'weight_alt2': 1.0000010368251282, 'weight_alt3': 1.0000843226234106}\n"
     ]
    }
   ],
   "source": [
    "parameter_names = [\"sqme\", \"sqme_alt1\", \"sqme_alt2\", \"sqme_alt3\", \"weight_alt1\", \"weight_alt2\", \"weight_alt3\"]\n",
    "parameters_whizard = {}\n",
    "for name in parameter_names:\n",
    "    parameters_whizard[name] = event.get_parameter(name)\n",
    "print(parameters_whizard)"
   ]
  },
  {
   "cell_type": "code",
   "execution_count": 10,
   "metadata": {},
   "outputs": [],
   "source": [
    "data = []\n",
    "keep_list = [\n",
    "    # 0, # e- pre-ISR\n",
    "    # 1, # e+ pre-ISR\n",
    "    2, # e- post-ISR\n",
    "    3, # e+ post-ISR\n",
    "    # 4, # ISR gamma 1\n",
    "    # 5, # ISR gamma 2\n",
    "    6, # e+-\n",
    "    7, # nu\n",
    "    8, # u\n",
    "    9 # d\n",
    "]\n",
    "for i, mcp in enumerate(mcparticles):\n",
    "    if not i in keep_list:\n",
    "        continue\n",
    "    data.append(mcp.getEnergy())\n",
    "    momentum = mcp.getMomentum()\n",
    "    data.append(momentum.x)\n",
    "    data.append(momentum.y)\n",
    "    data.append(momentum.z)"
   ]
  },
  {
   "cell_type": "code",
   "execution_count": 11,
   "metadata": {},
   "outputs": [
    {
     "name": "stdout",
     "output_type": "stream",
     "text": [
      "14.257648245421365\n",
      "3.652985294495531\n",
      "17.910633539916898\n"
     ]
    }
   ],
   "source": [
    "ROOT.new_event(data)\n",
    "sqme1 = ROOT.sqme(1)\n",
    "sqme2 = ROOT.sqme(2)\n",
    "print(sqme1/parameters_whizard[\"sqme\"])\n",
    "print(sqme2/parameters_whizard[\"sqme\"])\n",
    "print((sqme1+sqme2)/parameters_whizard[\"sqme\"])"
   ]
  },
  {
   "cell_type": "code",
   "execution_count": 12,
   "metadata": {},
   "outputs": [
    {
     "name": "stdout",
     "output_type": "stream",
     "text": [
      "17.910633540258328\n",
      "1.0005687673575894\n",
      "0.9991312221016505\n"
     ]
    }
   ],
   "source": [
    "ROOT.new_event(data, pars_alt1)\n",
    "sqme1_alt1 = ROOT.sqme(1)\n",
    "sqme2_alt1 = ROOT.sqme(2)\n",
    "print((sqme1_alt1+sqme2_alt1)/parameters_whizard[\"sqme_alt1\"])\n",
    "print(sqme1_alt1/sqme1)\n",
    "print(sqme2_alt1/sqme2)"
   ]
  },
  {
   "cell_type": "code",
   "execution_count": 13,
   "metadata": {},
   "outputs": [
    {
     "name": "stdout",
     "output_type": "stream",
     "text": [
      "sqme: 0.00010064063890822195, sqme1: 8.011435360731263e-05, sqme2: 2.0526285300909318e-05\n",
      "sqme_alt1: 0.00010066837255442351, sqme1_alt1: 8.015992003651884e-05, sqme2_alt1: 2.0508452517904673e-05\n",
      "weight: 1.0, weight_alt1: 1.0002755710276023\n",
      "sqme_alt1/sqme: 1.0002755710466709\n",
      "sqme1_alt1/sqme1: 1.0005687673575894\n",
      "sqme2_alt1/sqme2: 0.9991312221016505\n"
     ]
    }
   ],
   "source": [
    "print(f\"sqme: {sqme1+sqme2}, sqme1: {sqme1}, sqme2: {sqme2}\")\n",
    "print(f\"sqme_alt1: {sqme1_alt1+sqme2_alt1}, sqme1_alt1: {sqme1_alt1}, sqme2_alt1: {sqme2_alt1}\")\n",
    "print(f\"weight: {1.0}, weight_alt1: {parameters_whizard['weight_alt1']}\")\n",
    "print(f\"sqme_alt1/sqme: {(sqme1_alt1 + sqme2_alt1) / (sqme1 + sqme2)}\")\n",
    "print(f\"sqme1_alt1/sqme1: {(sqme1_alt1) / (sqme1)}\")\n",
    "print(f\"sqme2_alt1/sqme2: {(sqme2_alt1) / (sqme2)}\")"
   ]
  },
  {
   "cell_type": "code",
   "execution_count": null,
   "metadata": {},
   "outputs": [],
   "source": []
  }
 ],
 "metadata": {
  "kernelspec": {
   "display_name": "Python 3",
   "language": "python",
   "name": "python3"
  },
  "language_info": {
   "codemirror_mode": {
    "name": "ipython",
    "version": 3
   },
   "file_extension": ".py",
   "mimetype": "text/x-python",
   "name": "python",
   "nbconvert_exporter": "python",
   "pygments_lexer": "ipython3",
   "version": "3.11.9"
  }
 },
 "nbformat": 4,
 "nbformat_minor": 2
}
